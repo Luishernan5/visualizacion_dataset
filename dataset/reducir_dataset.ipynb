{
 "cells": [
  {
   "cell_type": "code",
   "execution_count": null,
   "id": "d2345d26",
   "metadata": {},
   "outputs": [],
   "source": [
    "import pandas as pd\n",
    "\n",
    "# Ruta al archivo original (ajusta si es necesario)\n",
    "ruta_original = \"/home/hernan_so5/Documentos/Ejercicios_jupyter/datasets/datasets/NSL-KDD/KDDTrain+.txt\"\n",
    "\n",
    "# Nombres exactos de las columnas (sin incluir ID todavía)\n",
    "columnas = [\n",
    "    'duration', 'protocol_type', 'service', 'flag', 'src_bytes', 'dst_bytes',\n",
    "    'land', 'wrong_fragment', 'urgent', 'hot', 'num_failed_logins', 'logged_in',\n",
    "    'num_compromised', 'root_shell', 'su_attempted', 'num_root', 'num_file_creations',\n",
    "    'num_shells', 'num_access_files', 'num_outbound_cmds', 'is_host_login', \n",
    "    'is_guest_login', 'count', 'srv_count', 'serror_rate', 'srv_serror_rate', \n",
    "    'rerror_rate', 'srv_rerror_rate', 'same_srv_rate', 'diff_srv_rate', \n",
    "    'srv_diff_host_rate', 'dst_host_count', 'dst_host_srv_count', \n",
    "    'dst_host_same_srv_rate', 'dst_host_diff_srv_rate', \n",
    "    'dst_host_same_src_port_rate', 'dst_host_srv_diff_host_rate', \n",
    "    'dst_host_serror_rate', 'dst_host_srv_serror_rate', \n",
    "    'dst_host_rerror_rate', 'dst_host_srv_rerror_rate', 'label'\n",
    "]\n",
    "\n",
    "# Leer el CSV original sin encabezados, con nombres de columnas\n",
    "df = pd.read_csv(ruta_original, names=columnas, header=None)\n",
    "\n",
    "# Agregar columna 'id' al inicio (desde 0 hasta len(df)-1)\n",
    "df.insert(0, 'id', range(len(df)))\n",
    "\n",
    "# Guardar el CSV limpio\n",
    "ruta_salida = \"NSL-KDD_limpio.csv\"\n",
    "df.to_csv(ruta_salida, index=False)\n"
   ]
  }
 ],
 "metadata": {
  "kernelspec": {
   "display_name": "mi_entorno",
   "language": "python",
   "name": "python3"
  },
  "language_info": {
   "codemirror_mode": {
    "name": "ipython",
    "version": 3
   },
   "file_extension": ".py",
   "mimetype": "text/x-python",
   "name": "python",
   "nbconvert_exporter": "python",
   "pygments_lexer": "ipython3",
   "version": "3.13.7"
  }
 },
 "nbformat": 4,
 "nbformat_minor": 5
}
