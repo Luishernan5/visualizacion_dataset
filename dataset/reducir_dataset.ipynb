{
 "cells": [
  {
   "cell_type": "code",
   "execution_count": null,
   "id": "0b76480e",
   "metadata": {},
   "outputs": [],
   "source": [
    "# importacion de la libreria de Pandas y estructuracion de los datos del dataset\n",
    "import pandas as pd\n",
    "\n",
    "columnas = [\n",
    "    'duration','protocol_type','service','flag','src_bytes','dst_bytes','land','wrong_fragment',\n",
    "    'urgent','hot','num_failed_logins','logged_in','num_compromised','root_shell','su_attempted',\n",
    "    'num_root','num_file_creations','num_shells','num_access_files','num_outbound_cmds',\n",
    "    'is_host_login','is_guest_login','count','srv_count','serror_rate','srv_serror_rate',\n",
    "    'rerror_rate','srv_rerror_rate','same_srv_rate','diff_srv_rate','srv_diff_host_rate',\n",
    "    'dst_host_count','dst_host_srv_count','dst_host_same_srv_rate','dst_host_diff_srv_rate',\n",
    "    'dst_host_same_src_port_rate','dst_host_srv_diff_host_rate','dst_host_serror_rate',\n",
    "    'dst_host_srv_serror_rate','dst_host_rerror_rate','dst_host_srv_rerror_rate','label'\n",
    "]\n",
    "\n"
   ]
  },
  {
   "cell_type": "code",
   "execution_count": 6,
   "id": "8c8073b5",
   "metadata": {},
   "outputs": [
    {
     "data": {
      "text/plain": [
       "(125973, 42)"
      ]
     },
     "execution_count": 6,
     "metadata": {},
     "output_type": "execute_result"
    }
   ],
   "source": [
    "# Leer dataset completo\n",
    "df = pd.read_csv(\n",
    "    \"/home/hernan_so5/Documentos/Ejercicios_jupyter/datasets/datasets/NSL-KDD/KDDTrain+.txt\",\n",
    "    names=columnas\n",
    ")\n",
    "\n",
    "# Mostrar tamaño original\n",
    "df.shape\n"
   ]
  },
  {
   "cell_type": "code",
   "execution_count": 7,
   "id": "984bc501",
   "metadata": {},
   "outputs": [
    {
     "data": {
      "text/plain": [
       "(6299, 42)"
      ]
     },
     "execution_count": 7,
     "metadata": {},
     "output_type": "execute_result"
    }
   ],
   "source": [
    "# Reducir al 5% de manera aleatoria\n",
    "df_reducido = df.sample(frac=0.05, random_state=42).reset_index(drop=True)\n",
    "\n",
    "# Revisar tamaño reducido\n",
    "df_reducido.shape\n"
   ]
  },
  {
   "cell_type": "code",
   "execution_count": 8,
   "id": "1571241d",
   "metadata": {},
   "outputs": [
    {
     "data": {
      "application/vnd.microsoft.datawrangler.viewer.v0+json": {
       "columns": [
        {
         "name": "index",
         "rawType": "int64",
         "type": "integer"
        },
        {
         "name": "id",
         "rawType": "int64",
         "type": "integer"
        },
        {
         "name": "duration",
         "rawType": "object",
         "type": "string"
        },
        {
         "name": "protocol_type",
         "rawType": "object",
         "type": "string"
        },
        {
         "name": "service",
         "rawType": "object",
         "type": "string"
        },
        {
         "name": "flag",
         "rawType": "int64",
         "type": "integer"
        },
        {
         "name": "src_bytes",
         "rawType": "int64",
         "type": "integer"
        },
        {
         "name": "dst_bytes",
         "rawType": "int64",
         "type": "integer"
        },
        {
         "name": "land",
         "rawType": "int64",
         "type": "integer"
        },
        {
         "name": "wrong_fragment",
         "rawType": "int64",
         "type": "integer"
        },
        {
         "name": "urgent",
         "rawType": "int64",
         "type": "integer"
        },
        {
         "name": "hot",
         "rawType": "int64",
         "type": "integer"
        },
        {
         "name": "num_failed_logins",
         "rawType": "int64",
         "type": "integer"
        },
        {
         "name": "logged_in",
         "rawType": "int64",
         "type": "integer"
        },
        {
         "name": "num_compromised",
         "rawType": "int64",
         "type": "integer"
        },
        {
         "name": "root_shell",
         "rawType": "int64",
         "type": "integer"
        },
        {
         "name": "su_attempted",
         "rawType": "int64",
         "type": "integer"
        },
        {
         "name": "num_root",
         "rawType": "int64",
         "type": "integer"
        },
        {
         "name": "num_file_creations",
         "rawType": "int64",
         "type": "integer"
        },
        {
         "name": "num_shells",
         "rawType": "int64",
         "type": "integer"
        },
        {
         "name": "num_access_files",
         "rawType": "int64",
         "type": "integer"
        },
        {
         "name": "num_outbound_cmds",
         "rawType": "int64",
         "type": "integer"
        },
        {
         "name": "is_host_login",
         "rawType": "int64",
         "type": "integer"
        },
        {
         "name": "is_guest_login",
         "rawType": "int64",
         "type": "integer"
        },
        {
         "name": "count",
         "rawType": "int64",
         "type": "integer"
        },
        {
         "name": "srv_count",
         "rawType": "float64",
         "type": "float"
        },
        {
         "name": "serror_rate",
         "rawType": "float64",
         "type": "float"
        },
        {
         "name": "srv_serror_rate",
         "rawType": "float64",
         "type": "float"
        },
        {
         "name": "rerror_rate",
         "rawType": "float64",
         "type": "float"
        },
        {
         "name": "srv_rerror_rate",
         "rawType": "float64",
         "type": "float"
        },
        {
         "name": "same_srv_rate",
         "rawType": "float64",
         "type": "float"
        },
        {
         "name": "diff_srv_rate",
         "rawType": "float64",
         "type": "float"
        },
        {
         "name": "srv_diff_host_rate",
         "rawType": "int64",
         "type": "integer"
        },
        {
         "name": "dst_host_count",
         "rawType": "int64",
         "type": "integer"
        },
        {
         "name": "dst_host_srv_count",
         "rawType": "float64",
         "type": "float"
        },
        {
         "name": "dst_host_same_srv_rate",
         "rawType": "float64",
         "type": "float"
        },
        {
         "name": "dst_host_diff_srv_rate",
         "rawType": "float64",
         "type": "float"
        },
        {
         "name": "dst_host_same_src_port_rate",
         "rawType": "float64",
         "type": "float"
        },
        {
         "name": "dst_host_srv_diff_host_rate",
         "rawType": "float64",
         "type": "float"
        },
        {
         "name": "dst_host_serror_rate",
         "rawType": "float64",
         "type": "float"
        },
        {
         "name": "dst_host_srv_serror_rate",
         "rawType": "float64",
         "type": "float"
        },
        {
         "name": "dst_host_rerror_rate",
         "rawType": "float64",
         "type": "float"
        },
        {
         "name": "dst_host_srv_rerror_rate",
         "rawType": "object",
         "type": "string"
        },
        {
         "name": "label",
         "rawType": "int64",
         "type": "integer"
        }
       ],
       "ref": "eb533f4f-4fd5-4a22-91cd-f27a050cfc3a",
       "rows": [
        [
         "0",
         "0",
         "udp",
         "domain_u",
         "SF",
         "36",
         "0",
         "0",
         "0",
         "0",
         "0",
         "0",
         "0",
         "0",
         "0",
         "0",
         "0",
         "0",
         "0",
         "0",
         "0",
         "0",
         "0",
         "2",
         "4",
         "0.0",
         "0.0",
         "0.0",
         "0.0",
         "1.0",
         "0.0",
         "0.75",
         "67",
         "171",
         "1.0",
         "0.0",
         "1.0",
         "0.01",
         "0.0",
         "0.0",
         "0.0",
         "0.0",
         "normal",
         "21"
        ],
        [
         "1",
         "1",
         "tcp",
         "http",
         "S0",
         "0",
         "0",
         "0",
         "0",
         "0",
         "0",
         "0",
         "0",
         "0",
         "0",
         "0",
         "0",
         "0",
         "0",
         "0",
         "0",
         "0",
         "0",
         "42",
         "11",
         "1.0",
         "1.0",
         "0.0",
         "0.0",
         "0.26",
         "0.1",
         "0.0",
         "255",
         "44",
         "0.17",
         "0.05",
         "0.01",
         "0.0",
         "1.0",
         "1.0",
         "0.0",
         "0.0",
         "neptune",
         "18"
        ],
        [
         "2",
         "2",
         "tcp",
         "pop_3",
         "S0",
         "0",
         "0",
         "0",
         "0",
         "0",
         "0",
         "0",
         "0",
         "0",
         "0",
         "0",
         "0",
         "0",
         "0",
         "0",
         "0",
         "0",
         "0",
         "284",
         "20",
         "1.0",
         "1.0",
         "0.0",
         "0.0",
         "0.07",
         "0.06",
         "0.0",
         "255",
         "20",
         "0.08",
         "0.06",
         "0.0",
         "0.0",
         "1.0",
         "1.0",
         "0.0",
         "0.0",
         "neptune",
         "21"
        ],
        [
         "3",
         "3",
         "tcp",
         "private",
         "REJ",
         "0",
         "0",
         "0",
         "0",
         "0",
         "0",
         "0",
         "0",
         "0",
         "0",
         "0",
         "0",
         "0",
         "0",
         "0",
         "0",
         "0",
         "0",
         "110",
         "8",
         "0.0",
         "0.0",
         "1.0",
         "1.0",
         "0.07",
         "0.06",
         "0.0",
         "255",
         "27",
         "0.11",
         "0.07",
         "0.0",
         "0.0",
         "0.0",
         "0.0",
         "1.0",
         "1.0",
         "neptune",
         "19"
        ],
        [
         "4",
         "4",
         "tcp",
         "private",
         "RSTR",
         "0",
         "0",
         "0",
         "0",
         "0",
         "0",
         "0",
         "0",
         "0",
         "0",
         "0",
         "0",
         "0",
         "0",
         "0",
         "0",
         "0",
         "0",
         "1",
         "1",
         "0.0",
         "0.0",
         "1.0",
         "1.0",
         "1.0",
         "0.0",
         "0.0",
         "134",
         "1",
         "0.01",
         "0.64",
         "0.64",
         "0.0",
         "0.04",
         "0.0",
         "0.63",
         "1.0",
         "portsweep",
         "15"
        ]
       ],
       "shape": {
        "columns": 43,
        "rows": 5
       }
      },
      "text/html": [
       "<div>\n",
       "<style scoped>\n",
       "    .dataframe tbody tr th:only-of-type {\n",
       "        vertical-align: middle;\n",
       "    }\n",
       "\n",
       "    .dataframe tbody tr th {\n",
       "        vertical-align: top;\n",
       "    }\n",
       "\n",
       "    .dataframe thead th {\n",
       "        text-align: right;\n",
       "    }\n",
       "</style>\n",
       "<table border=\"1\" class=\"dataframe\">\n",
       "  <thead>\n",
       "    <tr style=\"text-align: right;\">\n",
       "      <th></th>\n",
       "      <th>id</th>\n",
       "      <th>duration</th>\n",
       "      <th>protocol_type</th>\n",
       "      <th>service</th>\n",
       "      <th>flag</th>\n",
       "      <th>src_bytes</th>\n",
       "      <th>dst_bytes</th>\n",
       "      <th>land</th>\n",
       "      <th>wrong_fragment</th>\n",
       "      <th>urgent</th>\n",
       "      <th>...</th>\n",
       "      <th>dst_host_srv_count</th>\n",
       "      <th>dst_host_same_srv_rate</th>\n",
       "      <th>dst_host_diff_srv_rate</th>\n",
       "      <th>dst_host_same_src_port_rate</th>\n",
       "      <th>dst_host_srv_diff_host_rate</th>\n",
       "      <th>dst_host_serror_rate</th>\n",
       "      <th>dst_host_srv_serror_rate</th>\n",
       "      <th>dst_host_rerror_rate</th>\n",
       "      <th>dst_host_srv_rerror_rate</th>\n",
       "      <th>label</th>\n",
       "    </tr>\n",
       "  </thead>\n",
       "  <tbody>\n",
       "    <tr>\n",
       "      <th>0</th>\n",
       "      <td>0</td>\n",
       "      <td>udp</td>\n",
       "      <td>domain_u</td>\n",
       "      <td>SF</td>\n",
       "      <td>36</td>\n",
       "      <td>0</td>\n",
       "      <td>0</td>\n",
       "      <td>0</td>\n",
       "      <td>0</td>\n",
       "      <td>0</td>\n",
       "      <td>...</td>\n",
       "      <td>1.00</td>\n",
       "      <td>0.00</td>\n",
       "      <td>1.00</td>\n",
       "      <td>0.01</td>\n",
       "      <td>0.00</td>\n",
       "      <td>0.0</td>\n",
       "      <td>0.00</td>\n",
       "      <td>0.0</td>\n",
       "      <td>normal</td>\n",
       "      <td>21</td>\n",
       "    </tr>\n",
       "    <tr>\n",
       "      <th>1</th>\n",
       "      <td>1</td>\n",
       "      <td>tcp</td>\n",
       "      <td>http</td>\n",
       "      <td>S0</td>\n",
       "      <td>0</td>\n",
       "      <td>0</td>\n",
       "      <td>0</td>\n",
       "      <td>0</td>\n",
       "      <td>0</td>\n",
       "      <td>0</td>\n",
       "      <td>...</td>\n",
       "      <td>0.17</td>\n",
       "      <td>0.05</td>\n",
       "      <td>0.01</td>\n",
       "      <td>0.00</td>\n",
       "      <td>1.00</td>\n",
       "      <td>1.0</td>\n",
       "      <td>0.00</td>\n",
       "      <td>0.0</td>\n",
       "      <td>neptune</td>\n",
       "      <td>18</td>\n",
       "    </tr>\n",
       "    <tr>\n",
       "      <th>2</th>\n",
       "      <td>2</td>\n",
       "      <td>tcp</td>\n",
       "      <td>pop_3</td>\n",
       "      <td>S0</td>\n",
       "      <td>0</td>\n",
       "      <td>0</td>\n",
       "      <td>0</td>\n",
       "      <td>0</td>\n",
       "      <td>0</td>\n",
       "      <td>0</td>\n",
       "      <td>...</td>\n",
       "      <td>0.08</td>\n",
       "      <td>0.06</td>\n",
       "      <td>0.00</td>\n",
       "      <td>0.00</td>\n",
       "      <td>1.00</td>\n",
       "      <td>1.0</td>\n",
       "      <td>0.00</td>\n",
       "      <td>0.0</td>\n",
       "      <td>neptune</td>\n",
       "      <td>21</td>\n",
       "    </tr>\n",
       "    <tr>\n",
       "      <th>3</th>\n",
       "      <td>3</td>\n",
       "      <td>tcp</td>\n",
       "      <td>private</td>\n",
       "      <td>REJ</td>\n",
       "      <td>0</td>\n",
       "      <td>0</td>\n",
       "      <td>0</td>\n",
       "      <td>0</td>\n",
       "      <td>0</td>\n",
       "      <td>0</td>\n",
       "      <td>...</td>\n",
       "      <td>0.11</td>\n",
       "      <td>0.07</td>\n",
       "      <td>0.00</td>\n",
       "      <td>0.00</td>\n",
       "      <td>0.00</td>\n",
       "      <td>0.0</td>\n",
       "      <td>1.00</td>\n",
       "      <td>1.0</td>\n",
       "      <td>neptune</td>\n",
       "      <td>19</td>\n",
       "    </tr>\n",
       "    <tr>\n",
       "      <th>4</th>\n",
       "      <td>4</td>\n",
       "      <td>tcp</td>\n",
       "      <td>private</td>\n",
       "      <td>RSTR</td>\n",
       "      <td>0</td>\n",
       "      <td>0</td>\n",
       "      <td>0</td>\n",
       "      <td>0</td>\n",
       "      <td>0</td>\n",
       "      <td>0</td>\n",
       "      <td>...</td>\n",
       "      <td>0.01</td>\n",
       "      <td>0.64</td>\n",
       "      <td>0.64</td>\n",
       "      <td>0.00</td>\n",
       "      <td>0.04</td>\n",
       "      <td>0.0</td>\n",
       "      <td>0.63</td>\n",
       "      <td>1.0</td>\n",
       "      <td>portsweep</td>\n",
       "      <td>15</td>\n",
       "    </tr>\n",
       "  </tbody>\n",
       "</table>\n",
       "<p>5 rows × 43 columns</p>\n",
       "</div>"
      ],
      "text/plain": [
       "   id duration protocol_type service  flag  src_bytes  dst_bytes  land  \\\n",
       "0   0      udp      domain_u      SF    36          0          0     0   \n",
       "1   1      tcp          http      S0     0          0          0     0   \n",
       "2   2      tcp         pop_3      S0     0          0          0     0   \n",
       "3   3      tcp       private     REJ     0          0          0     0   \n",
       "4   4      tcp       private    RSTR     0          0          0     0   \n",
       "\n",
       "   wrong_fragment  urgent  ...  dst_host_srv_count  dst_host_same_srv_rate  \\\n",
       "0               0       0  ...                1.00                    0.00   \n",
       "1               0       0  ...                0.17                    0.05   \n",
       "2               0       0  ...                0.08                    0.06   \n",
       "3               0       0  ...                0.11                    0.07   \n",
       "4               0       0  ...                0.01                    0.64   \n",
       "\n",
       "   dst_host_diff_srv_rate  dst_host_same_src_port_rate  \\\n",
       "0                    1.00                         0.01   \n",
       "1                    0.01                         0.00   \n",
       "2                    0.00                         0.00   \n",
       "3                    0.00                         0.00   \n",
       "4                    0.64                         0.00   \n",
       "\n",
       "   dst_host_srv_diff_host_rate  dst_host_serror_rate  \\\n",
       "0                         0.00                   0.0   \n",
       "1                         1.00                   1.0   \n",
       "2                         1.00                   1.0   \n",
       "3                         0.00                   0.0   \n",
       "4                         0.04                   0.0   \n",
       "\n",
       "   dst_host_srv_serror_rate  dst_host_rerror_rate  dst_host_srv_rerror_rate  \\\n",
       "0                      0.00                   0.0                    normal   \n",
       "1                      0.00                   0.0                   neptune   \n",
       "2                      0.00                   0.0                   neptune   \n",
       "3                      1.00                   1.0                   neptune   \n",
       "4                      0.63                   1.0                 portsweep   \n",
       "\n",
       "   label  \n",
       "0     21  \n",
       "1     18  \n",
       "2     21  \n",
       "3     19  \n",
       "4     15  \n",
       "\n",
       "[5 rows x 43 columns]"
      ]
     },
     "execution_count": 8,
     "metadata": {},
     "output_type": "execute_result"
    }
   ],
   "source": [
    "# Agregar columna 'id' desde 0 hasta N-1\n",
    "df_reducido.insert(0, 'id', range(len(df_reducido)))\n",
    "\n",
    "# Mostrar primeras filas\n",
    "df_reducido.head()\n"
   ]
  },
  {
   "cell_type": "code",
   "execution_count": 9,
   "id": "10401540",
   "metadata": {},
   "outputs": [],
   "source": [
    "# Reemplazar duración 0 por NaN si quieres\n",
    "df_reducido['duration'] = df_reducido['duration'].replace(0, np.nan)\n",
    "\n",
    "# Normalizar columnas categóricas\n",
    "categorical_cols = ['protocol_type','service','flag','label']\n",
    "for col in categorical_cols:\n",
    "    df_reducido[col] = df_reducido[col].astype('category')\n",
    "\n",
    "# Normalizar columnas numéricas\n",
    "numeric_cols = df_reducido.columns.difference(['id'] + categorical_cols)\n",
    "df_reducido[numeric_cols] = df_reducido[numeric_cols].apply(pd.to_numeric, errors='coerce')\n"
   ]
  },
  {
   "cell_type": "code",
   "execution_count": 11,
   "id": "8dd6fb8c",
   "metadata": {},
   "outputs": [
    {
     "name": "stdout",
     "output_type": "stream",
     "text": [
      "Dataset reducido y reestructurado guardado como NSL-KDD_reducido.csv\n"
     ]
    }
   ],
   "source": [
    "# Guardar CSV limpio\n",
    "df_reducido.to_csv(\"NSL-KDD_reducido.csv\", index=False)\n",
    "print(\"Dataset reducido y reestructurado guardado como NSL-KDD_reducido.csv\")\n"
   ]
  }
 ],
 "metadata": {
  "kernelspec": {
   "display_name": "mi_entorno",
   "language": "python",
   "name": "python3"
  },
  "language_info": {
   "codemirror_mode": {
    "name": "ipython",
    "version": 3
   },
   "file_extension": ".py",
   "mimetype": "text/x-python",
   "name": "python",
   "nbconvert_exporter": "python",
   "pygments_lexer": "ipython3",
   "version": "3.13.7"
  }
 },
 "nbformat": 4,
 "nbformat_minor": 5
}
