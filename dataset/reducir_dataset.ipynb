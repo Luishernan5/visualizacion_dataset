{
 "cells": [
  {
   "cell_type": "code",
   "execution_count": null,
   "id": "0b76480e",
   "metadata": {},
   "outputs": [],
   "source": [
    "# importacion de la libreria de Pandas y estructuracion de los datos del dataset\n",
    "import pandas as pd\n",
    "import numpy as np\n",
    "\n",
    "columnas = [\n",
    "    'duration','protocol_type','service','flag','src_bytes','dst_bytes','land','wrong_fragment',\n",
    "    'urgent','hot','num_failed_logins','logged_in','num_compromised','root_shell','su_attempted',\n",
    "    'num_root','num_file_creations','num_shells','num_access_files','num_outbound_cmds',\n",
    "    'is_host_login','is_guest_login','count','srv_count','serror_rate','srv_serror_rate',\n",
    "    'rerror_rate','srv_rerror_rate','same_srv_rate','diff_srv_rate','srv_diff_host_rate',\n",
    "    'dst_host_count','dst_host_srv_count','dst_host_same_srv_rate','dst_host_diff_srv_rate',\n",
    "    'dst_host_same_src_port_rate','dst_host_srv_diff_host_rate','dst_host_serror_rate',\n",
    "    'dst_host_srv_serror_rate','dst_host_rerror_rate','dst_host_srv_rerror_rate','label'\n",
    "]\n"
   ]
  },
  {
   "cell_type": "code",
   "execution_count": null,
   "id": "8c8073b5",
   "metadata": {},
   "outputs": [
    {
     "data": {
      "text/plain": [
       "(125973, 42)"
      ]
     },
     "execution_count": 2,
     "metadata": {},
     "output_type": "execute_result"
    }
   ],
   "source": [
    "# Leer dataset completo\n",
    "df = pd.read_csv(\n",
    "    \"/home/hernan_so5/Documentos/Ejercicios_jupyter/datasets/datasets/NSL-KDD/KDDTrain+.txt\",\n",
    "    names=columnas\n",
    ")\n",
    "\n",
    "# Mostrar tamaño original\n",
    "df.shape\n"
   ]
  },
  {
   "cell_type": "code",
   "execution_count": null,
   "id": "984bc501",
   "metadata": {},
   "outputs": [],
   "source": [
    "# Reducir al 5% de manera aleatoria\n",
    "df_reducido = df.sample(frac=0.05, random_state=42).reset_index(drop=True)\n",
    "\n",
    "# Revisar tamaño reducido\n",
    "df_reducido.shape\n"
   ]
  },
  {
   "cell_type": "code",
   "execution_count": null,
   "id": "1571241d",
   "metadata": {},
   "outputs": [],
   "source": [
    "# Agregar columna 'id' desde 0 hasta N-1\n",
    "df_reducido.insert(0, 'id', range(len(df_reducido)))\n",
    "\n",
    "# Mostrar primeras filas\n",
    "df_reducido.head()\n"
   ]
  },
  {
   "cell_type": "code",
   "execution_count": null,
   "id": "10401540",
   "metadata": {},
   "outputs": [],
   "source": [
    "# Reemplazar duración 0 por NaN si quieres\n",
    "df_reducido['duration'] = df_reducido['duration'].replace(0, np.nan)\n",
    "\n",
    "# Normalizar columnas categóricas\n",
    "categorical_cols = ['protocol_type','service','flag','label']\n",
    "for col in categorical_cols:\n",
    "    df_reducido[col] = df_reducido[col].astype('category')\n",
    "\n",
    "# Normalizar columnas numéricas\n",
    "numeric_cols = df_reducido.columns.difference(['id'] + categorical_cols)\n",
    "df_reducido[numeric_cols] = df_reducido[numeric_cols].apply(pd.to_numeric, errors='coerce')\n"
   ]
  },
  {
   "cell_type": "code",
   "execution_count": null,
   "id": "8dd6fb8c",
   "metadata": {},
   "outputs": [],
   "source": [
    "# Guardar CSV limpio\n",
    "df_reducido.to_csv(\"NSL-KDD_reducido.csv\", index=False)\n",
    "print(\"Dataset reducido y reestructurado guardado como NSL-KDD_reducido_limpio.csv\")\n"
   ]
  }
 ],
 "metadata": {
  "kernelspec": {
   "display_name": "mi_entorno",
   "language": "python",
   "name": "python3"
  },
  "language_info": {
   "codemirror_mode": {
    "name": "ipython",
    "version": 3
   },
   "file_extension": ".py",
   "mimetype": "text/x-python",
   "name": "python",
   "nbconvert_exporter": "python",
   "pygments_lexer": "ipython3",
   "version": "3.13.7"
  }
 },
 "nbformat": 4,
 "nbformat_minor": 5
}
