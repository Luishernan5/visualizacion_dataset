{
 "cells": [
  {
   "cell_type": "code",
   "execution_count": null,
   "id": "d2345d26",
   "metadata": {},
   "outputs": [],
   "source": [
    "import pandas as pd\n",
    "\n",
    "# Ruta del CSV original\n",
    "ruta_original = \"/home/hernan_so5/Documentos/Ejercicios_jupyter/datasets/datasets/NSL-KDD/KDDTrain+.txt\"\n",
    "\n",
    "# Columnas del dataset (sin ID)\n",
    "columnas = [\n",
    "    'duration','protocol_type','service','flag','src_bytes','dst_bytes','land','wrong_fragment',\n",
    "    'urgent','hot','num_failed_logins','logged_in','num_compromised','root_shell','su_attempted',\n",
    "    'num_root','num_file_creations','num_shells','num_access_files','num_outbound_cmds',\n",
    "    'is_host_login','is_guest_login','count','srv_count','serror_rate','srv_serror_rate',\n",
    "    'rerror_rate','srv_rerror_rate','same_srv_rate','diff_srv_rate','srv_diff_host_rate',\n",
    "    'dst_host_count','dst_host_srv_count','dst_host_same_srv_rate','dst_host_diff_srv_rate',\n",
    "    'dst_host_same_src_port_rate','dst_host_srv_diff_host_rate','dst_host_serror_rate',\n",
    "    'dst_host_srv_serror_rate','dst_host_rerror_rate','dst_host_srv_rerror_rate','label'\n",
    "]\n",
    "\n",
    "# Leer CSV original\n",
    "df = pd.read_csv(ruta_original, names=columnas, on_bad_lines='skip')\n",
    "\n",
    "# Agregar columna 'id' al inicio\n",
    "df.insert(0, 'id', range(len(df)))\n",
    "\n",
    "# Guardar CSV limpio y listo para frontend\n",
    "df.to_csv(\"NSL-KDD_limpio.csv\", index=False)\n",
    "\n"
   ]
  }
 ],
 "metadata": {
  "language_info": {
   "name": "python"
  }
 },
 "nbformat": 4,
 "nbformat_minor": 5
}
