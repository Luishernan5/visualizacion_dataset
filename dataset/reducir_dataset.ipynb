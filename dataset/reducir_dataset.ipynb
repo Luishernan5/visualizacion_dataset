{
 "cells": [
  {
   "cell_type": "code",
   "execution_count": null,
   "id": "0b76480e",
   "metadata": {},
   "outputs": [
    {
     "name": "stdout",
     "output_type": "stream",
     "text": [
      "   id duration protocol_type service  flag  src_bytes  dst_bytes  land  \\\n",
      "0   0      tcp      ftp_data      SF   491          0          0     0   \n",
      "0   1      udp         other      SF   146          0          0     0   \n",
      "0   2      tcp       private      S0     0          0          0     0   \n",
      "0   3      tcp          http      SF   232       8153          0     0   \n",
      "0   4      tcp          http      SF   199        420          0     0   \n",
      "\n",
      "   wrong_fragment  urgent  ...  dst_host_srv_count  dst_host_same_srv_rate  \\\n",
      "0               0       0  ...                0.17                    0.03   \n",
      "0               0       0  ...                0.00                    0.60   \n",
      "0               0       0  ...                0.10                    0.05   \n",
      "0               0       0  ...                1.00                    0.00   \n",
      "0               0       0  ...                1.00                    0.00   \n",
      "\n",
      "   dst_host_diff_srv_rate  dst_host_same_src_port_rate  \\\n",
      "0                    0.17                         0.00   \n",
      "0                    0.88                         0.00   \n",
      "0                    0.00                         0.00   \n",
      "0                    0.03                         0.04   \n",
      "0                    0.00                         0.00   \n",
      "\n",
      "   dst_host_srv_diff_host_rate  dst_host_serror_rate  \\\n",
      "0                         0.00                  0.00   \n",
      "0                         0.00                  0.00   \n",
      "0                         1.00                  1.00   \n",
      "0                         0.03                  0.01   \n",
      "0                         0.00                  0.00   \n",
      "\n",
      "   dst_host_srv_serror_rate  dst_host_rerror_rate  dst_host_srv_rerror_rate  \\\n",
      "0                      0.05                  0.00                    normal   \n",
      "0                      0.00                  0.00                    normal   \n",
      "0                      0.00                  0.00                   neptune   \n",
      "0                      0.00                  0.01                    normal   \n",
      "0                      0.00                  0.00                    normal   \n",
      "\n",
      "   label  \n",
      "0     20  \n",
      "0     15  \n",
      "0     19  \n",
      "0     21  \n",
      "0     21  \n",
      "\n",
      "[5 rows x 43 columns]\n"
     ]
    }
   ],
   "source": [
    "import pandas as pd\n",
    "\n",
    "# Columnas originales (sin id)\n",
    "columnas = [\n",
    "    'duration','protocol_type','service','flag','src_bytes','dst_bytes','land','wrong_fragment',\n",
    "    'urgent','hot','num_failed_logins','logged_in','num_compromised','root_shell','su_attempted',\n",
    "    'num_root','num_file_creations','num_shells','num_access_files','num_outbound_cmds',\n",
    "    'is_host_login','is_guest_login','count','srv_count','serror_rate','srv_serror_rate',\n",
    "    'rerror_rate','srv_rerror_rate','same_srv_rate','diff_srv_rate','srv_diff_host_rate',\n",
    "    'dst_host_count','dst_host_srv_count','dst_host_same_srv_rate','dst_host_diff_srv_rate',\n",
    "    'dst_host_same_src_port_rate','dst_host_srv_diff_host_rate','dst_host_serror_rate',\n",
    "    'dst_host_srv_serror_rate','dst_host_rerror_rate','dst_host_srv_rerror_rate','label'\n",
    "]\n",
    "\n",
    "# Leer CSV original\n",
    "df = pd.read_csv(\n",
    "    \"/home/hernan_so5/Documentos/Ejercicios_jupyter/datasets/datasets/NSL-KDD/KDDTrain+.txt\",\n",
    "    names=columnas,\n",
    "    on_bad_lines='skip'\n",
    ")\n",
    "\n",
    "# Agregar columna 'id' al inicio\n",
    "df.insert(0, 'id', range(len(df)))\n",
    "\n",
    "# Verificar las primeras filas\n",
    "print(df.head())\n",
    "\n",
    "# Guardar CSV corregido\n",
    "df.to_csv(\"NSL-KDD_corregido.csv\", index=False)\n"
   ]
  }
 ],
 "metadata": {
  "kernelspec": {
   "display_name": "mi_entorno",
   "language": "python",
   "name": "python3"
  },
  "language_info": {
   "codemirror_mode": {
    "name": "ipython",
    "version": 3
   },
   "file_extension": ".py",
   "mimetype": "text/x-python",
   "name": "python",
   "nbconvert_exporter": "python",
   "pygments_lexer": "ipython3",
   "version": "3.13.7"
  }
 },
 "nbformat": 4,
 "nbformat_minor": 5
}
